{
 "cells": [
  {
   "cell_type": "markdown",
   "id": "26575f8c-472c-4a64-ac9e-6a944332b99c",
   "metadata": {},
   "source": [
    "# Matrices\n",
    "\n",
    "In this notebook, we'll see how to add/subtract matrices, perform matrix multiplication, solve linear systems and find eigenvalues and eigenvectors numerically.  This is a nice way to check answers to problems as well as a much faster way to perform matrix computations, particularlly for large matrices.\n",
    "You'll still need to be able to do all of these things by hand for the exam."
   ]
  },
  {
   "cell_type": "code",
   "execution_count": 1,
   "id": "7d51920f-eff9-43d2-a345-a69be75df1fe",
   "metadata": {},
   "outputs": [],
   "source": [
    "import scipy.linalg as spl # Matrix operations can be handled in python with the scipy or numpy linear algebra libraries\n",
    "import numpy as np\n",
    "\n",
    "# Set up two matrices\n",
    "A = np.array([\n",
    "    [-1, 2, 1],\n",
    "    [3, 1, 2],\n",
    "    [1, 0, 3]\n",
    "])\n",
    "\n",
    "B = np.array([\n",
    "    [1, -2, 3],\n",
    "    [-2, -1, -2],\n",
    "    [1, 0, -3]\n",
    "])"
   ]
  },
  {
   "cell_type": "code",
   "execution_count": 2,
   "id": "7c823952-7e62-4e92-bf3b-32e6d4d9576d",
   "metadata": {},
   "outputs": [
    {
     "name": "stdout",
     "output_type": "stream",
     "text": [
      "[[0 0 4]\n",
      " [1 0 0]\n",
      " [2 0 0]]\n"
     ]
    }
   ],
   "source": [
    "# Add the matrices\n",
    "print(A + B)"
   ]
  },
  {
   "cell_type": "code",
   "execution_count": 3,
   "id": "1eef99a7-1ba1-4b18-9032-533a1873e6dc",
   "metadata": {},
   "outputs": [
    {
     "name": "stdout",
     "output_type": "stream",
     "text": [
      "[[-2  4 -2]\n",
      " [ 5  2  4]\n",
      " [ 0  0  6]]\n"
     ]
    }
   ],
   "source": [
    "# Subtract them\n",
    "print(A - B)"
   ]
  },
  {
   "cell_type": "code",
   "execution_count": 4,
   "id": "003117da-c6e6-4d3c-beca-bd8cbb460191",
   "metadata": {},
   "outputs": [
    {
     "name": "stdout",
     "output_type": "stream",
     "text": [
      "[[-1 -4  3]\n",
      " [-6 -1 -4]\n",
      " [ 1  0 -9]]\n"
     ]
    }
   ],
   "source": [
    "# Multiply elementwise\n",
    "print(A * B)"
   ]
  },
  {
   "cell_type": "code",
   "execution_count": 5,
   "id": "b26df9b5-0b93-42a7-9104-57b68bf77656",
   "metadata": {},
   "outputs": [
    {
     "name": "stdout",
     "output_type": "stream",
     "text": [
      "[[ -4   0 -10]\n",
      " [  3  -7   1]\n",
      " [  4  -2  -6]]\n"
     ]
    }
   ],
   "source": [
    "# Dot product\n",
    "print(np.dot(A,B))"
   ]
  },
  {
   "cell_type": "code",
   "execution_count": 6,
   "id": "c0eccdc6-0627-49c3-935b-a9986e9c05db",
   "metadata": {},
   "outputs": [
    {
     "name": "stdout",
     "output_type": "stream",
     "text": [
      "[[ -4   0 -10]\n",
      " [  3  -7   1]\n",
      " [  4  -2  -6]]\n"
     ]
    }
   ],
   "source": [
    "# Another way to do the dot product\n",
    "print(A @ B)"
   ]
  },
  {
   "cell_type": "code",
   "execution_count": 7,
   "id": "6f56dd62-6fbb-4f1d-bd00-d3ed1a1fdb63",
   "metadata": {},
   "outputs": [
    {
     "name": "stdout",
     "output_type": "stream",
     "text": [
      "22.0\n"
     ]
    }
   ],
   "source": [
    "# Find the determinant\n",
    "print(spl.det(B))"
   ]
  },
  {
   "cell_type": "code",
   "execution_count": 8,
   "id": "a895027e-8fb2-42bb-9598-55392c330324",
   "metadata": {},
   "outputs": [
    {
     "name": "stdout",
     "output_type": "stream",
     "text": [
      "[[-0.16666667  0.33333333 -0.16666667]\n",
      " [ 0.38888889  0.22222222 -0.27777778]\n",
      " [ 0.05555556 -0.11111111  0.38888889]]\n"
     ]
    }
   ],
   "source": [
    "# Find the inverse\n",
    "print(spl.inv(A))"
   ]
  },
  {
   "cell_type": "code",
   "execution_count": 9,
   "id": "79e8b3c7-d8e2-454b-af75-008dd95be742",
   "metadata": {},
   "outputs": [
    {
     "name": "stdout",
     "output_type": "stream",
     "text": [
      "[ 2. -3.  5.]\n"
     ]
    }
   ],
   "source": [
    "# Solve a linear system of the Ax = b form.\n",
    "# We found the answer by hand in Q2 of the practise problems, it was x = (2, -3, 5)\n",
    "A = np.array([\n",
    "    [1,3,2],\n",
    "    [2, -1, -3],\n",
    "    [5, 2, 1]\n",
    "])\n",
    "b = np.array([3, -8, 9])\n",
    "\n",
    "x = spl.solve(A,b)\n",
    "\n",
    "print(x)"
   ]
  },
  {
   "cell_type": "code",
   "execution_count": 10,
   "id": "ca400bd3-2c44-4af8-8c6d-3e19ef065ab4",
   "metadata": {},
   "outputs": [
    {
     "name": "stdout",
     "output_type": "stream",
     "text": [
      "lm = (3.9999999999999973+0j), v = [ 5.55111512e-16 -7.07106781e-01 -7.07106781e-01]\n",
      "lm = (2.000000000000002+0j), v = [-0.81649658  0.40824829  0.40824829]\n",
      "lm = (0.999999999999999+0j), v = [ 8.94427191e-01 -4.47213595e-01  1.40433339e-16]\n"
     ]
    }
   ],
   "source": [
    "# We can also find eigenvalues and eigenvectors\n",
    "# In Q3 of the practise problems, we found analytically that the eigenvalues were lm1 = 1,lm2 = 4,lm3 = 2 and the eigenvectors were\n",
    "# v1 = (-2,1,0), v2 = (0,1,1), v3 = (-2, 1, 1) .\n",
    "# You'll notice that when found numerically, eigenvectors are normalised to have unit length.\n",
    "A = np.array([\n",
    "    [2, 2, -2],\n",
    "    [1, 3, 1],\n",
    "    [1, 2, 2]\n",
    "])\n",
    "evals, evecs = spl.eig(A)\n",
    "\n",
    "for i in range(len(evals)):\n",
    "    print(\"lm = {0}, v = {1}\".format(evals[i], evecs[:,i]))"
   ]
  },
  {
   "cell_type": "code",
   "execution_count": null,
   "id": "3e5e3567-11bb-45e9-b2b5-10a3e950e385",
   "metadata": {},
   "outputs": [],
   "source": []
  }
 ],
 "metadata": {
  "kernelspec": {
   "display_name": "Python 3",
   "language": "python",
   "name": "python3"
  },
  "language_info": {
   "codemirror_mode": {
    "name": "ipython",
    "version": 3
   },
   "file_extension": ".py",
   "mimetype": "text/x-python",
   "name": "python",
   "nbconvert_exporter": "python",
   "pygments_lexer": "ipython3",
   "version": "3.9.7"
  }
 },
 "nbformat": 4,
 "nbformat_minor": 5
}
